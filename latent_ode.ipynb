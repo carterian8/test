{
 "cells": [
  {
   "cell_type": "code",
   "execution_count": null,
   "metadata": {},
   "outputs": [],
   "source": [
    "# Generate the data\n",
    "nspiral = 1000\n",
    "ntotal = 500\n",
    "nsample = 100\n",
    "start = 0.\n",
    "stop = 6 * pi\n",
    "noise_std = .3\n",
    "a = 0.\n",
    "b = .3\n",
    "\n",
    "orig_trajs = permutedims(reshape(convert(Array{Float32,2}, CSV.read(\"latent_ode_data/orig_trajs.csv\", header=false)), (nspiral, ntotal, 2)), [3, 2,1])\n",
    "samp_trajs = permutedims(reshape(convert(Array{Float32,2}, CSV.read(\"latent_ode_data/samp_trajs.csv\", header=false)), (nspiral, nsample, 2)), [3, 2,1])\n",
    "orig_ts = convert(Array{Float64}, CSV.read(\"latent_ode_data/orig_ts.csv\", header=false))\n",
    "samp_ts = convert(Array{Float64}, CSV.read(\"latent_ode_data/samp_ts.csv\", header=false))"
   ]
  }
 ],
 "metadata": {
  "kernelspec": {
   "display_name": "Julia 1.1.0",
   "language": "julia",
   "name": "julia-1.1"
  },
  "language_info": {
   "file_extension": ".jl",
   "mimetype": "application/julia",
   "name": "julia",
   "version": "1.1.0"
  }
 },
 "nbformat": 4,
 "nbformat_minor": 2
}
