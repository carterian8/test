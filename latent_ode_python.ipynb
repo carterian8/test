{
 "cells": [
  {
   "cell_type": "code",
   "execution_count": 2,
   "metadata": {},
   "outputs": [],
   "source": [
    "%matplotlib inline\n",
    "import os\n",
    "import argparse\n",
    "import logging\n",
    "import time\n",
    "import numpy as np\n",
    "import numpy.random as npr\n",
    "import matplotlib\n",
    "import matplotlib.pyplot as plt\n",
    "import torch\n",
    "import torch.nn as nn\n",
    "import torch.optim as optim\n",
    "import torch.nn.functional as F"
   ]
  },
  {
   "cell_type": "code",
   "execution_count": 3,
   "metadata": {},
   "outputs": [],
   "source": [
    "from torchdiffeq import odeint"
   ]
  },
  {
   "cell_type": "code",
   "execution_count": 4,
   "metadata": {},
   "outputs": [],
   "source": [
    "rands = np.loadtxt(\"latent_ode_data/1kx1k_randn.csv\", delimiter=\",\")"
   ]
  },
  {
   "cell_type": "code",
   "execution_count": 144,
   "metadata": {},
   "outputs": [
    {
     "name": "stdout",
     "output_type": "stream",
     "text": [
      "Parameter containing:\n",
      "tensor([[ 0.8502,  0.4838,  1.2441, -0.4602,  0.2365, -0.2285, -0.2799, -1.9022,\n",
      "         -0.4218, -0.6100, -0.0354, -0.4674, -0.5142,  0.8735, -0.5945,  0.1625,\n",
      "          1.2139,  0.2140,  0.6137,  0.0680, -0.7405,  0.0119,  0.5295, -1.0595,\n",
      "         -0.5860],\n",
      "        [ 0.6706,  0.9485,  1.2818,  0.9213, -0.0313, -0.2500, -0.5638,  0.0655,\n",
      "          1.5040,  0.9391, -0.4402, -0.0379,  0.2842, -0.7398, -0.8066, -1.3970,\n",
      "          0.7393,  0.1484,  0.9215, -2.1960,  0.0408, -0.2132, -0.3089,  1.0187,\n",
      "         -2.3004],\n",
      "        [-0.4815,  0.6757,  1.1007, -2.4115,  0.6168, -0.2013, -0.9690, -1.6505,\n",
      "         -1.1048,  0.4376,  0.9912,  1.6375,  1.5713, -0.9893, -0.2838, -0.6637,\n",
      "         -0.4571, -0.5677, -0.5546,  0.6735, -0.6598,  1.1995,  0.2044, -0.5047,\n",
      "         -1.1320],\n",
      "        [ 1.3690,  0.6802,  0.6855, -0.2710, -0.4110, -0.9030,  0.7594,  0.6402,\n",
      "          1.0845,  0.2586, -0.3792,  0.0118, -0.3956, -0.5196, -1.0876,  1.9097,\n",
      "          0.3442,  1.0456,  1.2400,  0.9077, -1.2468,  0.4829, -0.6774, -0.2568,\n",
      "          0.8021],\n",
      "        [ 1.8075, -0.6959, -0.5981, -0.2348, -2.0196,  1.3769, -2.2837, -1.2830,\n",
      "         -0.4223, -0.7435,  1.5427, -0.2139,  0.9317, -0.0262,  0.2138,  0.0400,\n",
      "         -0.3262,  2.5790,  0.4095,  0.2216, -0.8447, -0.4823,  0.2608,  1.0171,\n",
      "          0.1139],\n",
      "        [ 1.9676, -0.7457,  0.8877, -0.6221, -0.6411,  0.2163,  0.7707,  0.8610,\n",
      "          0.3279,  0.8084, -0.0287,  0.5807, -0.6801,  1.4132, -2.3929, -1.6065,\n",
      "         -0.0229, -1.1936,  0.2862,  2.1072,  1.6970,  0.8668,  0.2787,  0.8896,\n",
      "          0.2099],\n",
      "        [-0.2883, -0.5187, -1.0514,  0.8637,  0.3545,  0.6985,  0.8182,  1.1789,\n",
      "          1.6424, -0.7460,  0.9656, -0.4632, -0.9039,  0.0106,  1.6065, -0.5418,\n",
      "          0.0930,  0.9039, -0.2237,  2.3045,  1.1128,  1.8935, -0.6526,  0.4732,\n",
      "         -3.1305],\n",
      "        [ 1.8798,  1.7345,  1.0767,  0.8852, -0.1733,  1.3018, -0.2508, -1.3484,\n",
      "          0.5170,  0.2529, -1.6279, -0.8042,  0.8999,  0.5150, -0.8697, -1.5007,\n",
      "          0.7162, -1.8571,  0.0972,  1.1639,  0.4692,  0.2901,  0.3349,  0.5074,\n",
      "         -0.4885]], requires_grad=True)\n"
     ]
    }
   ],
   "source": [
    "def createWeight(dims):\n",
    "    sz = np.prod(dims)\n",
    "    w = torch.from_numpy(rands[:sz].reshape(dims, order=\"F\")).float()\n",
    "    return torch.nn.Parameter(w)\n",
    "\n",
    "class LatentODEfunc(nn.Module):\n",
    "\n",
    "    def __init__(self, latent_dim=4, nhidden=20):\n",
    "        super(LatentODEfunc, self).__init__()\n",
    "        self.elu = nn.ELU(inplace=True)\n",
    "        self.fc1 = nn.Linear(latent_dim, nhidden)\n",
    "        self.fc2 = nn.Linear(nhidden, nhidden)\n",
    "        self.fc3 = nn.Linear(nhidden, latent_dim)\n",
    "        self.nfe = 0\n",
    "        with torch.no_grad():\n",
    "            self.fc1.weight = createWeight(self.fc1.weight.shape)\n",
    "            self.fc2.weight = createWeight(self.fc2.weight.shape)\n",
    "            self.fc3.weight = createWeight(self.fc3.weight.shape)\n",
    "\n",
    "    def forward(self, t, x):\n",
    "        self.nfe += 1\n",
    "        out = self.fc1(x)\n",
    "        out = self.elu(out)\n",
    "        out = self.fc2(out)\n",
    "        out = self.elu(out)\n",
    "        out = self.fc3(out)\n",
    "        return out\n",
    "\n",
    "\n",
    "class RecognitionRNN(nn.Module):\n",
    "\n",
    "    def __init__(self, latent_dim=4, obs_dim=2, nhidden=25, nbatch=1):\n",
    "        super(RecognitionRNN, self).__init__()\n",
    "        self.nhidden = nhidden\n",
    "        self.nbatch = nbatch\n",
    "        self.i2h = nn.Linear(obs_dim + nhidden, nhidden)\n",
    "        self.h2o = nn.Linear(nhidden, latent_dim * 2)\n",
    "        with torch.no_grad():\n",
    "            self.i2h.weight = createWeight(self.i2h.weight.shape)\n",
    "            self.h2o.weight = createWeight(self.h2o.weight.shape)\n",
    "            print(self.h2o.weight)\n",
    "\n",
    "    def forward(self, x, h):\n",
    "        combined = torch.cat((x, h), dim=1)\n",
    "        h = torch.tanh(self.i2h(combined))\n",
    "        out = self.h2o(h)\n",
    "        return out, h\n",
    "\n",
    "    def initHidden(self):\n",
    "        return torch.zeros(self.nbatch, self.nhidden)\n",
    "    \n",
    "    def resetWeights(self):\n",
    "        with torch.no_grad():\n",
    "            self.i2h.weight = createWeight(self.i2h.weight.shape)\n",
    "            self.h2o.weight = createWeight(self.h2o.weight.shape)\n",
    "            self.i2h.bias = torch.nn.init.zeros_(self.i2h.bias)\n",
    "            self.h2o.bias = torch.nn.init.zeros_(self.h2o.bias)\n",
    "\n",
    "\n",
    "class Decoder(nn.Module):\n",
    "\n",
    "    def __init__(self, latent_dim=4, obs_dim=2, nhidden=20):\n",
    "        super(Decoder, self).__init__()\n",
    "        self.relu = nn.ReLU(inplace=True)\n",
    "        self.fc1 = nn.Linear(latent_dim, nhidden)\n",
    "        self.fc2 = nn.Linear(nhidden, obs_dim)\n",
    "        with torch.no_grad():\n",
    "            self.fc1.weight = createWeight(self.fc1.weight.shape)\n",
    "            self.fc2.weight = createWeight(self.fc2.weight.shape)\n",
    "\n",
    "    def forward(self, z):\n",
    "        out = self.fc1(z)\n",
    "        out = self.relu(out)\n",
    "        out = self.fc2(out)\n",
    "        return out\n",
    "\n",
    "\n",
    "class RunningAverageMeter(object):\n",
    "    \"\"\"Computes and stores the average and current value\"\"\"\n",
    "\n",
    "    def __init__(self, momentum=0.99):\n",
    "        self.momentum = momentum\n",
    "        self.reset()\n",
    "\n",
    "    def reset(self):\n",
    "        self.val = None\n",
    "        self.avg = 0\n",
    "\n",
    "    def update(self, val):\n",
    "        if self.val is None:\n",
    "            self.avg = val\n",
    "        else:\n",
    "            self.avg = self.avg * self.momentum + val * (1 - self.momentum)\n",
    "        self.val = val\n",
    "\n",
    "\n",
    "def log_normal_pdf(x, mean, logvar):\n",
    "    const = torch.from_numpy(np.array([2. * np.pi])).float().to(x.device)\n",
    "    const = torch.log(const)\n",
    "    return -.5 * (const + logvar + (x - mean) ** 2. / torch.exp(logvar))\n",
    "\n",
    "\n",
    "def normal_kl(mu1, lv1, mu2, lv2):\n",
    "    v1 = torch.exp(lv1)\n",
    "    v2 = torch.exp(lv2)\n",
    "    lstd1 = lv1 / 2.\n",
    "    lstd2 = lv2 / 2.\n",
    "\n",
    "    kl = lstd2 - lstd1 + ((v1 + (mu1 - mu2) ** 2.) / (2. * v2)) - .5\n",
    "    return kl\n",
    "\n",
    "\n",
    "latent_dim = 4\n",
    "nhidden = 20\n",
    "rnn_nhidden = 25\n",
    "obs_dim = 2\n",
    "nspiral = 1000\n",
    "start = 0.\n",
    "stop = 6 * np.pi\n",
    "noise_std = .3\n",
    "a = 0.\n",
    "b = .3\n",
    "ntotal = 500\n",
    "nsample = 100\n",
    "device = torch.device('cuda:' + str(0) if torch.cuda.is_available() else 'cpu')\n",
    "\n",
    "# model\n",
    "lr = 0.01\n",
    "func = LatentODEfunc(latent_dim, nhidden).to(device)\n",
    "rec = RecognitionRNN(latent_dim, obs_dim, rnn_nhidden, nspiral).to(device)\n",
    "dec = Decoder(latent_dim, obs_dim, nhidden).to(device)\n",
    "params = (list(func.parameters()) + list(dec.parameters()) + list(rec.parameters()))\n",
    "optimizer = optim.Adam(params, lr=lr)\n",
    "loss_meter = RunningAverageMeter()"
   ]
  },
  {
   "cell_type": "code",
   "execution_count": 145,
   "metadata": {},
   "outputs": [],
   "source": [
    "orig_trajs = np.loadtxt(\"latent_ode_data/orig_trajs.csv\", delimiter=\",\").reshape((nspiral, 500, 2), order=\"F\")\n",
    "samp_trajs = np.loadtxt(\"latent_ode_data/samp_trajs.csv\", delimiter=\",\").reshape((nspiral, nsample, 2), order=\"F\")\n",
    "orig_ts = np.loadtxt(\"latent_ode_data/orig_ts.csv\", delimiter=\",\")\n",
    "samp_ts = np.loadtxt(\"latent_ode_data/samp_ts.csv\", delimiter=\",\")"
   ]
  },
  {
   "cell_type": "code",
   "execution_count": 146,
   "metadata": {},
   "outputs": [
    {
     "data": {
      "image/png": "[encoded data removed]",
      "text/plain": [
       "<Figure size 432x288 with 1 Axes>"
      ]
     },
     "metadata": {
      "needs_background": "light"
     },
     "output_type": "display_data"
    }
   ],
   "source": [
    "plt.figure()\n",
    "plt.plot(orig_trajs[1, :, 0], orig_trajs[1, :, 1], label='orig')\n",
    "plt.scatter(samp_trajs[1, :, 0], samp_trajs[1, :, 1], label='noisy')\n",
    "plt.legend()\n",
    "plt.show()"
   ]
  },
  {
   "cell_type": "code",
   "execution_count": 147,
   "metadata": {},
   "outputs": [],
   "source": [
    "orig_trajs = torch.from_numpy(orig_trajs).float().to(device)\n",
    "samp_trajs = torch.from_numpy(samp_trajs).float().to(device)\n",
    "samp_ts = torch.from_numpy(samp_ts).float().to(device)"
   ]
  },
  {
   "cell_type": "code",
   "execution_count": 166,
   "metadata": {},
   "outputs": [
    {
     "name": "stdout",
     "output_type": "stream",
     "text": [
      "tensor([[ -2.1573,   2.0143,  -3.0909,  ...,   1.4557,   4.8459,  -0.6020],\n",
      "        [  1.9842,   2.0966,   3.1563,  ...,  -4.3384,  -5.1562,   3.8471],\n",
      "        [ -3.6158,   1.2643, -10.0299,  ...,   3.7081,   7.9673,   1.8052],\n",
      "        ...,\n",
      "        [ -2.1754,   2.6222,  -2.8869,  ...,  -2.0467,   0.7350,  -5.4856],\n",
      "        [  2.6186,   3.7974,   5.8671,  ...,   3.5860,  -5.2105,   1.9873],\n",
      "        [ -2.0170,   2.1934,  -2.8682,  ...,   1.5951,   4.5869,  -0.5580]],\n",
      "       grad_fn=<AddmmBackward>)\n",
      "tensor([[ 0.9909,  1.0000, -0.5268,  ..., -1.0000,  1.0000,  0.9991],\n",
      "        [-0.9999,  1.0000,  0.7887,  ...,  0.9998, -1.0000, -0.9999],\n",
      "        [ 0.7689, -0.1392, -1.0000,  ..., -0.9998,  0.7615,  0.7874],\n",
      "        ...,\n",
      "        [-0.4072,  1.0000,  0.0038,  ..., -1.0000,  1.0000,  1.0000],\n",
      "        [ 0.9956, -0.8954,  0.5917,  ...,  1.0000, -0.9952, -0.9999],\n",
      "        [ 0.8936,  1.0000, -0.3898,  ..., -1.0000,  1.0000,  0.9998]],\n",
      "       grad_fn=<TanhBackward>)\n"
     ]
    }
   ],
   "source": [
    "optimizer.zero_grad()\n",
    "# backward in time to infer q(z_0)\n",
    "h = rec.initHidden().to(device)\n",
    "rec.resetWeights()\n",
    "#for t in reversed(range(samp_trajs.size(1))):\n",
    "for t in reversed(range(78,samp_trajs.size(1))):\n",
    "    obs = samp_trajs[:, t, :]\n",
    "    out, h = rec.forward(obs, h)\n",
    "print(out)\n",
    "print(h)"
   ]
  },
  {
   "cell_type": "code",
   "execution_count": 137,
   "metadata": {},
   "outputs": [
    {
     "name": "stdout",
     "output_type": "stream",
     "text": [
      "tensor([[ 0.8502,  0.6706, -0.4815,  1.3690],\n",
      "        [ 1.8075,  1.9676, -0.2883,  1.8798],\n",
      "        [ 0.4838,  0.9485,  0.6757,  0.6802],\n",
      "        ...,\n",
      "        [ 0.3667, -0.1572, -1.7548, -2.1620],\n",
      "        [ 0.0802,  1.0119, -0.2121,  0.1846],\n",
      "        [-0.3075, -1.1857,  0.7423, -0.6946]])\n",
      "torch.Size([1000, 4])\n",
      "tensor([[ 1.1653e+01, -1.3358e-01, -9.2657e+01,  4.5983e+00],\n",
      "        [ 1.5594e+00, -9.0651e-01,  1.7379e-01, -8.1175e+00],\n",
      "        [ 6.4389e-01,  1.4524e+01,  3.7540e-01,  1.5148e+01],\n",
      "        ...,\n",
      "        [ 8.3479e-01, -3.0816e+00, -1.4265e+01,  9.3842e+00],\n",
      "        [ 2.2802e+00, -1.3982e+00,  3.2000e+00, -1.0460e+01],\n",
      "        [-2.4006e+00, -3.8584e+00,  5.0047e+03,  8.0376e-02]],\n",
      "       grad_fn=<AddBackward0>)\n"
     ]
    }
   ],
   "source": [
    "qz0_mean, qz0_logvar = out[:, :latent_dim], out[:, latent_dim:]\n",
    "size = np.prod(qz0_mean.size())\n",
    "epsilon = torch.from_numpy(rands[:size].reshape(qz0_mean.size())).float().to(device)\n",
    "print(epsilon)\n",
    "z0 = epsilon * torch.exp(.5 * qz0_logvar) + qz0_mean\n",
    "print(z0.size())\n",
    "print(z0)"
   ]
  },
  {
   "cell_type": "code",
   "execution_count": null,
   "metadata": {},
   "outputs": [],
   "source": []
  }
 ],
 "metadata": {
  "kernelspec": {
   "display_name": "Python 3",
   "language": "python",
   "name": "python3"
  },
  "language_info": {
   "codemirror_mode": {
    "name": "ipython",
    "version": 3
   },
   "file_extension": ".py",
   "mimetype": "text/x-python",
   "name": "python",
   "nbconvert_exporter": "python",
   "pygments_lexer": "ipython3",
   "version": "3.7.2"
  }
 },
 "nbformat": 4,
 "nbformat_minor": 2
}
